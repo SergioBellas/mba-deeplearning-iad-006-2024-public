{
 "cells": [
  {
   "cell_type": "code",
   "execution_count": 2,
   "metadata": {},
   "outputs": [
    {
     "name": "stdout",
     "output_type": "stream",
     "text": [
      "Status Code: 500\n",
      "Response Text: Internal Server Error\n"
     ]
    }
   ],
   "source": [
    "import base64\n",
    "from PIL import Image\n",
    "import requests\n",
    "import io\n",
    "\n",
    "img = Image.open('../imagens/imagem_positiva.png')\n",
    "img = img.resize((8, 8))\n",
    "\n",
    "buffered = io.BytesIO()\n",
    "img.save(buffered, format=\"PNG\")\n",
    "img_str = base64.b64encode(buffered.getvalue()).decode(\"utf-8\")\n",
    "\n",
    "url = 'https://redesigned-succotash-jj4pvvj7w476hj799-8080.app.github.dev/predict'\n",
    "response = requests.post(url, json={'image': img_str})\n",
    "\n",
    "# Imprimir o status code e a resposta bruta\n",
    "print(\"Status Code:\", response.status_code)\n",
    "print(\"Response Text:\", response.text)"
   ]
  }
 ],
 "metadata": {
  "kernelspec": {
   "display_name": "Python 3",
   "language": "python",
   "name": "python3"
  },
  "language_info": {
   "codemirror_mode": {
    "name": "ipython",
    "version": 3
   },
   "file_extension": ".py",
   "mimetype": "text/x-python",
   "name": "python",
   "nbconvert_exporter": "python",
   "pygments_lexer": "ipython3",
   "version": "3.10.13"
  }
 },
 "nbformat": 4,
 "nbformat_minor": 2
}
