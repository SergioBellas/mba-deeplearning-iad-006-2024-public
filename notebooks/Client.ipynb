{
 "cells": [
  {
   "cell_type": "code",
   "execution_count": 6,
   "metadata": {},
   "outputs": [
    {
     "ename": "NameError",
     "evalue": "name 'app' is not defined",
     "output_type": "error",
     "traceback": [
      "\u001b[0;31m---------------------------------------------------------------------------\u001b[0m",
      "\u001b[0;31mNameError\u001b[0m                                 Traceback (most recent call last)",
      "Cell \u001b[0;32mIn[6], line 1\u001b[0m\n\u001b[0;32m----> 1\u001b[0m \u001b[38;5;129m@app\u001b[39m\u001b[38;5;241m.\u001b[39mpost(\u001b[38;5;124m'\u001b[39m\u001b[38;5;124m/predict\u001b[39m\u001b[38;5;124m'\u001b[39m)\n\u001b[1;32m      2\u001b[0m \u001b[38;5;28;01masync\u001b[39;00m \u001b[38;5;28;01mdef\u001b[39;00m \u001b[38;5;21mpredict\u001b[39m(data: ImageData):\n\u001b[1;32m      3\u001b[0m     \u001b[38;5;28;01mtry\u001b[39;00m:\n\u001b[1;32m      4\u001b[0m         \u001b[38;5;66;03m# Receber a imagem em base64 da requisição\u001b[39;00m\n\u001b[1;32m      5\u001b[0m         img_bytes \u001b[38;5;241m=\u001b[39m base64\u001b[38;5;241m.\u001b[39mb64decode(data\u001b[38;5;241m.\u001b[39mimage)\n",
      "\u001b[0;31mNameError\u001b[0m: name 'app' is not defined"
     ]
    }
   ],
   "source": [
    "import base64\n",
    "from PIL import Image\n",
    "import requests\n",
    "import io\n",
    "\n",
    "img = Image.open('../imagens/imagem_positiva.png')\n",
    "img = img.resize((8, 8))\n",
    "\n",
    "buffered = io.BytesIO()\n",
    "img.save(buffered, format=\"PNG\")\n",
    "img_str = base64.b64encode(buffered.getvalue()).decode(\"utf-8\")\n",
    "\n",
    "url = 'https://redesigned-succotash-jj4pvvj7w476hj799-8080.app.github.dev/predict'\n",
    "response = requests.post(url, json={'image': img_str})\n",
    "\n",
    "print(response.json())\n",
    "\n"
   ]
  }
 ],
 "metadata": {
  "kernelspec": {
   "display_name": "Python 3",
   "language": "python",
   "name": "python3"
  },
  "language_info": {
   "codemirror_mode": {
    "name": "ipython",
    "version": 3
   },
   "file_extension": ".py",
   "mimetype": "text/x-python",
   "name": "python",
   "nbconvert_exporter": "python",
   "pygments_lexer": "ipython3",
   "version": "3.10.13"
  }
 },
 "nbformat": 4,
 "nbformat_minor": 2
}
